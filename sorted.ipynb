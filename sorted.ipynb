{
 "cells": [
  {
   "cell_type": "code",
   "execution_count": 7,
   "metadata": {},
   "outputs": [
    {
     "name": "stdout",
     "output_type": "stream",
     "text": [
      "[(4, 0), (1, 2), (3, 2), (5, 2)]\n",
      "[(4, 0), (3, 2), (1, 2), (5, 2)]\n"
     ]
    }
   ],
   "source": [
    "a=[(3,2),(1,2),(5,2),(4,0)]\n",
    "a1=sorted(a,key=lambda x:[x[1],x[0]])\n",
    "a2=sorted(a,key=lambda x:x[1])\n",
    "print(a1)\n",
    "print(a2)"
   ]
  },
  {
   "cell_type": "code",
   "execution_count": 8,
   "metadata": {},
   "outputs": [],
   "source": [
    "def merge(li,low,mid,high):\n",
    "    temp=[]\n",
    "    left=low\n",
    "    right=mid+1\n",
    "    while(left<=mid and right<=high):\n",
    "        if li[left]<li[right]:\n",
    "            temp.append(li[left])\n",
    "            left+=1\n",
    "        else:\n",
    "            temp.append(li[right])\n",
    "            right+=1\n",
    "    while(left<=mid):\n",
    "            temp.append(li[left])\n",
    "            left+=1\n",
    "    while(right<=high):\n",
    "            temp.append(li[right])\n",
    "            right+=1\n",
    "    for i in range(low,high+1):\n",
    "            li[i]=temp[i-low]\n",
    "\n",
    "def mergesort(li,low,high):\n",
    "    if low<high:\n",
    "        mid=low+(high-low)//2\n",
    "        mergesort(li,low,mid)\n",
    "        mergesort(li,mid+1,high)\n",
    "        merge(li,low,mid,high)\n"
   ]
  },
  {
   "cell_type": "code",
   "execution_count": 9,
   "metadata": {},
   "outputs": [
    {
     "name": "stdout",
     "output_type": "stream",
     "text": [
      "[1, 2, 3, 4, 5]\n"
     ]
    }
   ],
   "source": [
    "li=[5,4,1,2,3]\n",
    "mergesort(li,0,len(li)-1)\n",
    "print(li)"
   ]
  },
  {
   "cell_type": "code",
   "execution_count": 12,
   "metadata": {},
   "outputs": [],
   "source": [
    "arr=[1,2,3,4]\n",
    "a=list(filter(lambda x:x>2,arr))"
   ]
  },
  {
   "cell_type": "code",
   "execution_count": 14,
   "metadata": {},
   "outputs": [
    {
     "data": {
      "text/plain": [
       "[1, 4, 9, 16]"
      ]
     },
     "execution_count": 14,
     "metadata": {},
     "output_type": "execute_result"
    }
   ],
   "source": [
    "arr=[1,2,3,4]\n",
    "a=list(map(lambda x : x**2,arr))\n",
    "a"
   ]
  },
  {
   "cell_type": "code",
   "execution_count": 16,
   "metadata": {},
   "outputs": [],
   "source": [
    "li=[int (x) for x in input().split()]"
   ]
  },
  {
   "cell_type": "code",
   "execution_count": 17,
   "metadata": {},
   "outputs": [
    {
     "data": {
      "text/plain": [
       "[1, 2, 3, 4]"
      ]
     },
     "execution_count": 17,
     "metadata": {},
     "output_type": "execute_result"
    }
   ],
   "source": [
    "arr"
   ]
  },
  {
   "cell_type": "code",
   "execution_count": 19,
   "metadata": {},
   "outputs": [
    {
     "data": {
      "text/plain": [
       "[3, 4]"
      ]
     },
     "execution_count": 19,
     "metadata": {},
     "output_type": "execute_result"
    }
   ],
   "source": [
    "li=[int (i) for i in arr if i>2]\n",
    "li"
   ]
  },
  {
   "cell_type": "code",
   "execution_count": 20,
   "metadata": {},
   "outputs": [],
   "source": [
    "def merge(li,start,mid,end):\n",
    "    temp=[]\n",
    "    left=start\n",
    "    right=mid+1\n",
    "    while(left<=mid and right<=end):\n",
    "        if li[left]>li[right]:\n",
    "            temp.append(li[right])\n",
    "            right+=1\n",
    "        else:\n",
    "            temp.append(li[left])\n",
    "            left+=1\n",
    "    while(left<=mid):\n",
    "        temp.append(li[left])\n",
    "        left+=1\n",
    "    while(right<=end):\n",
    "        temp.append(li[right])\n",
    "        right+=1\n",
    "    for i in range(start,end+1):\n",
    "        li[i]=temp[i-start]\n",
    "\n",
    "def mergersort(li,start,end):\n",
    "    if start<end:\n",
    "        mid=start+(end-start)//2\n",
    "        mergesort(li,start,mid)\n",
    "        mergersort(li,mid+1,end)\n",
    "        merge(li,start,mid,end)\n"
   ]
  },
  {
   "cell_type": "code",
   "execution_count": 21,
   "metadata": {},
   "outputs": [
    {
     "data": {
      "text/plain": [
       "[1, 2, 3, 4, 5]"
      ]
     },
     "execution_count": 21,
     "metadata": {},
     "output_type": "execute_result"
    }
   ],
   "source": [
    "li=[5,4,3,2,1]\n",
    "mergersort(li,0,len(li)-1)\n",
    "li"
   ]
  },
  {
   "cell_type": "code",
   "execution_count": 22,
   "metadata": {},
   "outputs": [
    {
     "data": {
      "text/plain": [
       "[1, 2, 3, 4, 5]"
      ]
     },
     "execution_count": 22,
     "metadata": {},
     "output_type": "execute_result"
    }
   ],
   "source": [
    "def quicksort(arr):\n",
    "    if len(arr)<=1:\n",
    "        return arr\n",
    "    else:\n",
    "        pivot=arr[len(arr)//2]\n",
    "        left=[x for x in arr if x<pivot]\n",
    "        right=[x for x in arr if x>pivot]\n",
    "        middle=[x for x in arr if x==pivot]\n",
    "        return quicksort(left)+middle+quicksort(right)\n",
    "\n",
    "arr=[5,4,3,2,1]\n",
    "arr=quicksort(arr)\n",
    "arr"
   ]
  },
  {
   "cell_type": "code",
   "execution_count": null,
   "metadata": {},
   "outputs": [],
   "source": [
    "def quicksort_in_place(arr, low, high):\n",
    "    if low < high:\n",
    "        pi = partition(arr, low, high)\n",
    "        quicksort_in_place(arr, low, pi - 1)\n",
    "        quicksort_in_place(arr, pi + 1, high)\n",
    "\n",
    "def partition(arr, low, high):\n",
    "    mid = (low + high) // 2\n",
    "    pivot = arr[mid]\n",
    "    \n",
    "    # Move pivot to the end of the array\n",
    "    arr[mid], arr[high] = arr[high], arr[mid]\n",
    "    pivot = arr[high]\n",
    "\n",
    "    i = low - 1  # Index of the smaller element\n",
    "\n",
    "    for j in range(low, high):\n",
    "        if arr[j] <= pivot:\n",
    "            i += 1\n",
    "            arr[i], arr[j] = arr[j], arr[i]  # Swap if element is smaller than pivot\n",
    "\n",
    "    arr[i + 1], arr[high] = arr[high], arr[i + 1]  # Swap the pivot element to its correct position\n",
    "    return i + 1\n",
    "\n",
    "# Example usage\n",
    "arr = [3, 6, 8, 10, 1, 2, 1]\n",
    "quicksort_in_place(arr, 0, len(arr) - 1)\n",
    "print(arr)  # Output: [1, 1, 2, 3, 6, 8, 10]\n"
   ]
  },
  {
   "cell_type": "code",
   "execution_count": null,
   "metadata": {},
   "outputs": [],
   "source": []
  }
 ],
 "metadata": {
  "kernelspec": {
   "display_name": "Python 3",
   "language": "python",
   "name": "python3"
  },
  "language_info": {
   "codemirror_mode": {
    "name": "ipython",
    "version": 3
   },
   "file_extension": ".py",
   "mimetype": "text/x-python",
   "name": "python",
   "nbconvert_exporter": "python",
   "pygments_lexer": "ipython3",
   "version": "3.12.1"
  }
 },
 "nbformat": 4,
 "nbformat_minor": 2
}
