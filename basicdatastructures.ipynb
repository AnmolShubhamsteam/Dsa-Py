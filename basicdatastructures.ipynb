{
 "cells": [
  {
   "cell_type": "code",
   "execution_count": 15,
   "metadata": {},
   "outputs": [
    {
     "name": "stdout",
     "output_type": "stream",
     "text": [
      "23\n",
      "3\n",
      "1\n",
      "2\n"
     ]
    }
   ],
   "source": [
    "class Node:\n",
    "    def __init__(self,data):\n",
    "        self.data=data\n",
    "        self.next=None\n",
    "\n",
    "class LinkedList:\n",
    "    def __init__(self) -> None:\n",
    "        self.head=None\n",
    "    def insertatbegin(self,data):\n",
    "        new_node=Node(data)\n",
    "        if self.head is None:\n",
    "            self.head=new_node\n",
    "        else:\n",
    "            new_node.next=self.head\n",
    "            self.head=new_node\n",
    "    def insertatany(self,data,position):\n",
    "        if position == 0:\n",
    "            self.insertatbegin(data)\n",
    "            return\n",
    "        k=0\n",
    "        cur_node=self.head\n",
    "        while cur_node is not None and k<position-1:\n",
    "            k+=1\n",
    "            cur_node=cur_node.next\n",
    "        if cur_node is not None:\n",
    "            new_node=Node(data)\n",
    "            new_node.next=cur_node.next\n",
    "            cur_node.next=new_node\n",
    "        else:\n",
    "            return\n",
    "    def insertatend(self,data):\n",
    "        if self.head is None:\n",
    "            self.insertatbegin(data)\n",
    "            return\n",
    "        new_node=Node(data)\n",
    "        cur_node=self.head\n",
    "        while(cur_node.next is not None):\n",
    "            cur_node=cur_node.next\n",
    "        cur_node.next=new_node\n",
    "    def printll(self):\n",
    "        cur_node=self.head\n",
    "        while cur_node is not None:\n",
    "            print(cur_node.data)\n",
    "            cur_node=cur_node.next\n",
    "\n",
    "if __name__==\"__main__\":\n",
    "    li=LinkedList()\n",
    "    li.insertatbegin(1)\n",
    "    li.insertatend(2)\n",
    "    li.insertatbegin(23)\n",
    "    li.insertatany(3,1)\n",
    "    li.printll()\n",
    "\n",
    "\n",
    "    "
   ]
  },
  {
   "cell_type": "code",
   "execution_count": null,
   "metadata": {},
   "outputs": [],
   "source": []
  }
 ],
 "metadata": {
  "kernelspec": {
   "display_name": "Python 3",
   "language": "python",
   "name": "python3"
  },
  "language_info": {
   "codemirror_mode": {
    "name": "ipython",
    "version": 3
   },
   "file_extension": ".py",
   "mimetype": "text/x-python",
   "name": "python",
   "nbconvert_exporter": "python",
   "pygments_lexer": "ipython3",
   "version": "3.12.1"
  }
 },
 "nbformat": 4,
 "nbformat_minor": 2
}
