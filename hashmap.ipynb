{
 "cells": [
  {
   "cell_type": "code",
   "execution_count": 27,
   "metadata": {},
   "outputs": [
    {
     "data": {
      "text/plain": [
       "set"
      ]
     },
     "execution_count": 27,
     "metadata": {},
     "output_type": "execute_result"
    }
   ],
   "source": [
    "a=set()\n",
    "type(a)"
   ]
  },
  {
   "cell_type": "code",
   "execution_count": 28,
   "metadata": {},
   "outputs": [
    {
     "name": "stdout",
     "output_type": "stream",
     "text": [
      "{2}\n"
     ]
    }
   ],
   "source": [
    "a.add(2)\n",
    "print(a)"
   ]
  },
  {
   "cell_type": "code",
   "execution_count": 29,
   "metadata": {},
   "outputs": [
    {
     "data": {
      "text/plain": [
       "{2, '34'}"
      ]
     },
     "execution_count": 29,
     "metadata": {},
     "output_type": "execute_result"
    }
   ],
   "source": [
    "a.add(\"34\")\n",
    "a"
   ]
  },
  {
   "cell_type": "code",
   "execution_count": 30,
   "metadata": {},
   "outputs": [],
   "source": [
    "a.add(\"34\")"
   ]
  },
  {
   "cell_type": "code",
   "execution_count": 31,
   "metadata": {},
   "outputs": [],
   "source": [
    "b=set([\"34\"])"
   ]
  },
  {
   "cell_type": "code",
   "execution_count": 32,
   "metadata": {},
   "outputs": [],
   "source": [
    "b.remove(\"34\")"
   ]
  },
  {
   "cell_type": "code",
   "execution_count": 33,
   "metadata": {},
   "outputs": [
    {
     "data": {
      "text/plain": [
       "set()"
      ]
     },
     "execution_count": 33,
     "metadata": {},
     "output_type": "execute_result"
    }
   ],
   "source": [
    "b"
   ]
  },
  {
   "cell_type": "code",
   "execution_count": 34,
   "metadata": {},
   "outputs": [],
   "source": [
    "if \"34\" in b:\n",
    "    print(True)"
   ]
  },
  {
   "cell_type": "code",
   "execution_count": 35,
   "metadata": {},
   "outputs": [
    {
     "data": {
      "text/plain": [
       "{'steve': [[1, 2, 3, 4], [5, 6, 7, 8]]}"
      ]
     },
     "execution_count": 35,
     "metadata": {},
     "output_type": "execute_result"
    }
   ],
   "source": [
    "d={\"steve\":[[1,2,3,4],[5,6,7,8]]}\n",
    "d"
   ]
  },
  {
   "cell_type": "code",
   "execution_count": 36,
   "metadata": {},
   "outputs": [
    {
     "name": "stdout",
     "output_type": "stream",
     "text": [
      "steve [[1, 2, 3, 4], [5, 6, 7, 8]]\n"
     ]
    }
   ],
   "source": [
    "# looping\n",
    "for key,value in d.items():\n",
    "    print(key,value)"
   ]
  },
  {
   "cell_type": "code",
   "execution_count": 37,
   "metadata": {},
   "outputs": [],
   "source": [
    "from collections import defaultdict\n",
    "default=defaultdict(list)"
   ]
  },
  {
   "cell_type": "code",
   "execution_count": 38,
   "metadata": {},
   "outputs": [
    {
     "data": {
      "text/plain": [
       "[]"
      ]
     },
     "execution_count": 38,
     "metadata": {},
     "output_type": "execute_result"
    }
   ],
   "source": [
    "default[2]"
   ]
  },
  {
   "cell_type": "code",
   "execution_count": 39,
   "metadata": {},
   "outputs": [
    {
     "data": {
      "text/plain": [
       "[]"
      ]
     },
     "execution_count": 39,
     "metadata": {},
     "output_type": "execute_result"
    }
   ],
   "source": [
    "default[4]"
   ]
  },
  {
   "cell_type": "code",
   "execution_count": 40,
   "metadata": {},
   "outputs": [
    {
     "data": {
      "text/plain": [
       "defaultdict(list, {2: [], 4: []})"
      ]
     },
     "execution_count": 40,
     "metadata": {},
     "output_type": "execute_result"
    }
   ],
   "source": [
    "default"
   ]
  },
  {
   "cell_type": "code",
   "execution_count": 41,
   "metadata": {},
   "outputs": [],
   "source": [
    "# counter dictionary\n",
    "from collections import Counter\n",
    "str=\"aaaabbbbccccdddde\"\n",
    "counter=Counter(str)"
   ]
  },
  {
   "cell_type": "code",
   "execution_count": 42,
   "metadata": {},
   "outputs": [
    {
     "data": {
      "text/plain": [
       "Counter({'a': 4, 'b': 4, 'c': 4, 'd': 4, 'e': 1})"
      ]
     },
     "execution_count": 42,
     "metadata": {},
     "output_type": "execute_result"
    }
   ],
   "source": [
    "counter"
   ]
  },
  {
   "cell_type": "code",
   "execution_count": 43,
   "metadata": {},
   "outputs": [
    {
     "name": "stdout",
     "output_type": "stream",
     "text": [
      "3\n"
     ]
    }
   ],
   "source": [
    "stones=\"aAbbbb\"\n",
    "a={}\n",
    "for s in stones:\n",
    "    if s not in a:\n",
    "        a[s]=1\n",
    "    else:\n",
    "        a[s]+=1\n",
    "print(len(a))\n"
   ]
  },
  {
   "cell_type": "code",
   "execution_count": 44,
   "metadata": {},
   "outputs": [
    {
     "data": {
      "text/plain": [
       "{'a', 'b', 'c', 'd'}"
      ]
     },
     "execution_count": 44,
     "metadata": {},
     "output_type": "execute_result"
    }
   ],
   "source": [
    "set(\"abcd\")"
   ]
  },
  {
   "cell_type": "code",
   "execution_count": 45,
   "metadata": {},
   "outputs": [
    {
     "data": {
      "text/plain": [
       "'true'"
      ]
     },
     "execution_count": 45,
     "metadata": {},
     "output_type": "execute_result"
    }
   ],
   "source": [
    "def containsDuplicate(nums):\n",
    "    A={}\n",
    "    for i in nums:\n",
    "        if i not in A:\n",
    "            A[i]=1\n",
    "        else:\n",
    "            A[i]+=1\n",
    "    for key,value in A.items():\n",
    "        if value>1:\n",
    "            return \"false\"\n",
    "    return \"true\" \n",
    "containsDuplicate([1,2,3,4])"
   ]
  },
  {
   "cell_type": "code",
   "execution_count": 46,
   "metadata": {},
   "outputs": [
    {
     "data": {
      "text/plain": [
       "{1, 2, 3}"
      ]
     },
     "execution_count": 46,
     "metadata": {},
     "output_type": "execute_result"
    }
   ],
   "source": [
    "set([1,1,2,3])"
   ]
  },
  {
   "cell_type": "code",
   "execution_count": 47,
   "metadata": {},
   "outputs": [
    {
     "name": "stdout",
     "output_type": "stream",
     "text": [
      "30 35 39 42 "
     ]
    }
   ],
   "source": [
    "def find_k_closest_elements(nums, target, k, n):\n",
    "    nums.sort()\n",
    "    left = 0\n",
    "    right = n - 1\n",
    "\n",
    "    # Use binary search to find the closest elements\n",
    "    while right - left >= k:\n",
    "        # Compare the absolute differences between the target and elements at left and right pointers\n",
    "        if abs(nums[left] - target) > abs(nums[right] - target):\n",
    "            left += 1\n",
    "        else:\n",
    "            right -= 1\n",
    "\n",
    "    # Print the `k` closest elements\n",
    "    while left <= right:\n",
    "        print(nums[left], end=\" \")\n",
    "        left += 1\n",
    "\n",
    "if __name__ == \"__main__\":\n",
    "    nums = [12, 16, 22, 30, 35, 39, 42, 45, 48, 50, 53, 55, 56]\n",
    "    n = len(nums)\n",
    "\n",
    "    target = 35\n",
    "    k = 4\n",
    "\n",
    "    # Find and print the k closest elements to the target\n",
    "    find_k_closest_elements(nums, target, k, n)\n"
   ]
  },
  {
   "cell_type": "code",
   "execution_count": 50,
   "metadata": {},
   "outputs": [
    {
     "name": "stdout",
     "output_type": "stream",
     "text": [
      "1\n",
      "2\n",
      "3\n",
      "4\n",
      "5\n"
     ]
    }
   ],
   "source": [
    "# Binary search approach\n",
    "def k_closest(li,target,k):\n",
    "    left=0\n",
    "    right=len(li)-1\n",
    "    while(left-right>=k):\n",
    "        if abs(li[left]-target)>abs(li[right]-target):\n",
    "            left+=1\n",
    "        else:\n",
    "            right-=1\n",
    "    while(left<=right):\n",
    "        print(li[left])\n",
    "        left+=1\n",
    "\n",
    "array=[1,2,3,4,5]\n",
    "k_closest(array,4,3)"
   ]
  },
  {
   "cell_type": "code",
   "execution_count": 56,
   "metadata": {},
   "outputs": [
    {
     "name": "stdout",
     "output_type": "stream",
     "text": [
      "6\n"
     ]
    }
   ],
   "source": [
    "# Possible triangle\n",
    "def c_triangle(li):\n",
    "    li.sort()\n",
    "    cnt=0\n",
    "    for i in range(len(li)-1,0,-1):\n",
    "        l=0\n",
    "        r=i-1\n",
    "        while(l<r):\n",
    "            if(li[l]+li[r]>li[i]):\n",
    "                cnt+=r-l\n",
    "                r=-1\n",
    "            else:\n",
    "                l+=1\n",
    "    print(cnt)\n",
    "c_triangle([10, 21, 22, 100, 101, 200, 300])\n",
    "        "
   ]
  },
  {
   "cell_type": "code",
   "execution_count": null,
   "metadata": {},
   "outputs": [],
   "source": [
    "def spiral(matrix,m,n):\n",
    "    top,bottom,left,right=0,m-1,0,n-1\n",
    "    while(top<=bottom and left<=right):\n",
    "        for i in range(left,right+1):\n",
    "            print(matrix[top][i],end=\"\")\n",
    "        top+=1\n",
    "        for i in range(top,bottom+1):\n",
    "            print(matrix[i][right],end=\"\")\n",
    "        right-=1\n",
    "        if top<=bottom:\n",
    "            for i in range(right,left-1):\n",
    "                print(matrix[bottom][i],end=\"\")\n",
    "            bottom-=1\n",
    "        if left<=right:\n",
    "            for i in range(bottom,top-1,-1):\n",
    "                print(matrix[i][bottom])\n",
    "            left+=1\n"
   ]
  },
  {
   "cell_type": "code",
   "execution_count": 61,
   "metadata": {},
   "outputs": [
    {
     "name": "stdout",
     "output_type": "stream",
     "text": [
      "5\n"
     ]
    },
    {
     "data": {
      "text/plain": [
       "4"
      ]
     },
     "execution_count": 61,
     "metadata": {},
     "output_type": "execute_result"
    }
   ],
   "source": [
    "matrix= [[1,2,3,4,5],\n",
    " [6,7,8,9,10],\n",
    " [11,12,13,14,15],\n",
    " [16,17,18,19,20]\n",
    " ]\n",
    "print(len(matrix[0]))\n",
    "len(matrix)"
   ]
  }
 ],
 "metadata": {
  "kernelspec": {
   "display_name": "Python 3",
   "language": "python",
   "name": "python3"
  },
  "language_info": {
   "codemirror_mode": {
    "name": "ipython",
    "version": 3
   },
   "file_extension": ".py",
   "mimetype": "text/x-python",
   "name": "python",
   "nbconvert_exporter": "python",
   "pygments_lexer": "ipython3",
   "version": "3.12.1"
  }
 },
 "nbformat": 4,
 "nbformat_minor": 2
}
