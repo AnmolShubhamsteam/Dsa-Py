{
 "cells": [
  {
   "cell_type": "code",
   "execution_count": 6,
   "metadata": {},
   "outputs": [
    {
     "name": "stdout",
     "output_type": "stream",
     "text": [
      "abcd\n",
      "abcd\n",
      "abcd\n",
      "abcd\n",
      "abcd\n"
     ]
    }
   ],
   "source": [
    "# Recursion\n",
    "def Name(n):\n",
    "    if (n==0):\n",
    "        return\n",
    "    print(\"abcd\")\n",
    "    Name(n-1)\n",
    "Name(5)"
   ]
  },
  {
   "cell_type": "code",
   "execution_count": null,
   "metadata": {},
   "outputs": [],
   "source": []
  },
  {
   "cell_type": "code",
   "execution_count": 7,
   "metadata": {},
   "outputs": [
    {
     "name": "stdout",
     "output_type": "stream",
     "text": [
      "abcd\n",
      "abcd\n",
      "abcd\n",
      "abcd\n",
      "abcd\n"
     ]
    }
   ],
   "source": [
    "def Name(i,n):\n",
    "    if i==n:\n",
    "        return\n",
    "    print(\"abcd\")\n",
    "    Name(i+1,n)\n",
    "Name(0,5)"
   ]
  },
  {
   "cell_type": "code",
   "execution_count": 8,
   "metadata": {},
   "outputs": [
    {
     "name": "stdout",
     "output_type": "stream",
     "text": [
      "10\n",
      "9\n",
      "8\n",
      "7\n",
      "6\n",
      "5\n",
      "4\n",
      "3\n",
      "2\n",
      "1\n",
      "\n",
      "1\n",
      "2\n",
      "3\n",
      "4\n",
      "5\n",
      "6\n",
      "7\n",
      "8\n",
      "9\n",
      "10\n"
     ]
    }
   ],
   "source": [
    "def Num(n):\n",
    "    if n==0:\n",
    "        print()\n",
    "        return\n",
    "    print(n)\n",
    "    Num(n-1)\n",
    "    print(n)\n",
    "\n",
    "Num(10)\n"
   ]
  },
  {
   "cell_type": "code",
   "execution_count": 9,
   "metadata": {},
   "outputs": [
    {
     "name": "stdout",
     "output_type": "stream",
     "text": [
      "5\n",
      "4\n",
      "3\n",
      "2\n",
      "1\n",
      "0\n"
     ]
    }
   ],
   "source": [
    "def Num2(i,N):\n",
    "    if i>N:\n",
    "        return\n",
    "    Num2(i+1,N)\n",
    "    print(i)\n",
    "Num2(0,5)    "
   ]
  },
  {
   "cell_type": "code",
   "execution_count": 10,
   "metadata": {},
   "outputs": [
    {
     "name": "stdout",
     "output_type": "stream",
     "text": [
      "6\n"
     ]
    }
   ],
   "source": [
    "# Sum of N numbers\n",
    "def SumN(i,Sum):\n",
    "    if(i==0):\n",
    "        return Sum\n",
    "    Sum+=i\n",
    "    return SumN(i-1,Sum)\n",
    "\n",
    "print(SumN(3,0))"
   ]
  },
  {
   "cell_type": "code",
   "execution_count": 11,
   "metadata": {},
   "outputs": [
    {
     "name": "stdout",
     "output_type": "stream",
     "text": [
      "6\n"
     ]
    }
   ],
   "source": [
    "# Non Parameterized Way\n",
    "def SumN(i):\n",
    "    if i==0:\n",
    "        return 0\n",
    "    return i+SumN(i-1)\n",
    "\n",
    "print(SumN(3))"
   ]
  },
  {
   "cell_type": "code",
   "execution_count": 12,
   "metadata": {},
   "outputs": [
    {
     "data": {
      "text/plain": [
       "6"
      ]
     },
     "execution_count": 12,
     "metadata": {},
     "output_type": "execute_result"
    }
   ],
   "source": [
    "def fact(i):\n",
    "    if i<=1:\n",
    "        return 1\n",
    "    return i*fact(i-1)\n",
    "\n",
    "fact(3)"
   ]
  },
  {
   "cell_type": "code",
   "execution_count": 13,
   "metadata": {},
   "outputs": [
    {
     "name": "stdout",
     "output_type": "stream",
     "text": [
      "[6, 5, 4, 3, 2, 1]\n"
     ]
    }
   ],
   "source": [
    "# Reverse an array\n",
    "def rev(l,r,arr):\n",
    "    if (l>r):\n",
    "        return\n",
    "    arr[l],arr[r]=arr[r],arr[l]\n",
    "    rev(l+1,r-1,arr)\n",
    "arr=[1,2,3,4,5,6]\n",
    "rev(0,len(arr)-1,arr)\n",
    "print(arr)"
   ]
  },
  {
   "cell_type": "code",
   "execution_count": 14,
   "metadata": {},
   "outputs": [],
   "source": [
    "def rev(i,arr,n):\n",
    "    if i==n//2:\n",
    "        return\n",
    "    arr[i],arr[n-1-i]=arr[n-1-i],arr[i]\n",
    "    rev(i+1,arr,n)"
   ]
  },
  {
   "cell_type": "code",
   "execution_count": 15,
   "metadata": {},
   "outputs": [
    {
     "name": "stdout",
     "output_type": "stream",
     "text": [
      "[6, 5, 4, 3, 2, 1]\n"
     ]
    }
   ],
   "source": [
    "arr=[1,2,3,4,5,6]\n",
    "rev(0,arr,6)\n",
    "print(arr)"
   ]
  },
  {
   "cell_type": "code",
   "execution_count": 16,
   "metadata": {},
   "outputs": [
    {
     "name": "stdout",
     "output_type": "stream",
     "text": [
      "True\n"
     ]
    }
   ],
   "source": [
    "def Palindrome(i,n,str):\n",
    "    # we don't need to swap at n//2 pos\n",
    "    if i==n//2:\n",
    "        return True\n",
    "    if (str[i]!=str[n-1-i]):\n",
    "        return False\n",
    "    \n",
    "    return Palindrome(i+1,n,str)\n",
    "\n",
    "print(Palindrome(0,7,\"racecar\"))\n",
    "    "
   ]
  },
  {
   "cell_type": "code",
   "execution_count": 17,
   "metadata": {},
   "outputs": [
    {
     "name": "stdout",
     "output_type": "stream",
     "text": [
      "3\n"
     ]
    }
   ],
   "source": [
    "def fibo(n):\n",
    "    if n<=1:\n",
    "        return n\n",
    "    return fibo(n-1)+fibo(n-2)\n",
    "\n",
    "print(fibo(4))"
   ]
  },
  {
   "cell_type": "code",
   "execution_count": 18,
   "metadata": {},
   "outputs": [
    {
     "name": "stdout",
     "output_type": "stream",
     "text": [
      "[]\n",
      "[1]\n",
      "[2]\n",
      "[2, 1]\n",
      "[3]\n",
      "[3, 1]\n",
      "[3, 2]\n",
      "[3, 2, 1]\n"
     ]
    }
   ],
   "source": [
    "# Include Exclude\n",
    "def subseq(i,seq,arr):\n",
    "    if i==len(arr):\n",
    "        print(seq)\n",
    "        return\n",
    "    # exclude\n",
    "    subseq(i+1,seq,arr)\n",
    "    # include\n",
    "    seq.append(arr[i])\n",
    "    subseq(i+1,seq,arr)\n",
    "    seq.pop()\n",
    "\n",
    "subseq(0,[],[3,2,1])\n"
   ]
  },
  {
   "cell_type": "code",
   "execution_count": 19,
   "metadata": {},
   "outputs": [
    {
     "name": "stdout",
     "output_type": "stream",
     "text": [
      "[[], [1], [2], [2, 1], [3], [3, 1], [3, 2], [3, 2, 1]]\n"
     ]
    }
   ],
   "source": [
    "def sub(i,arr,ans,seq):\n",
    "    if len(arr)==i:\n",
    "        ans.append(seq)\n",
    "        return ans\n",
    "    # Exclude\n",
    "    sub(i+1,arr,ans,seq)\n",
    "    # include\n",
    "    sub(i+1,arr,ans,seq+[arr[i]])\n",
    "\n",
    "ans=[]\n",
    "sub(0,[3,2,1],ans,[])\n",
    "print(ans)"
   ]
  },
  {
   "cell_type": "code",
   "execution_count": 20,
   "metadata": {},
   "outputs": [
    {
     "name": "stdout",
     "output_type": "stream",
     "text": [
      "[2, 1]\n",
      "[1, 2]\n"
     ]
    }
   ],
   "source": [
    "# Type Include Exclude\n",
    "def ksum(i:int,arr:list,k:int,s:int,seq:list):\n",
    "    if i==len(arr):\n",
    "        if s==k:\n",
    "            print(seq)\n",
    "        return \n",
    "    # exclude\n",
    "    ksum(i+1,arr,k,s,seq)\n",
    "    # include\n",
    "    s+=arr[i]\n",
    "    seq.append(arr[i])\n",
    "    ksum(i+1,arr,k,s,seq)\n",
    "    s-=arr[i]\n",
    "    seq.pop()\n",
    "arr=[1,2,1]\n",
    "ksum(0,arr,3,0,[])\n"
   ]
  },
  {
   "cell_type": "code",
   "execution_count": 21,
   "metadata": {},
   "outputs": [
    {
     "name": "stdout",
     "output_type": "stream",
     "text": [
      "[1, 2]\n",
      "[2, 1]\n"
     ]
    }
   ],
   "source": [
    "def sumK2(i,arr,seq,k,s):\n",
    "    if i==len(arr):\n",
    "        if s==k:\n",
    "            print(seq)\n",
    "        return\n",
    "    # include\n",
    "    s+=arr[i]\n",
    "    seq.append(arr[i])\n",
    "    sumK2(i+1,arr,seq,k,s)\n",
    "    #exclude\n",
    "    s-=arr[i]\n",
    "    seq.pop()\n",
    "    sumK2(i+1,arr,seq,k,s)\n",
    "arr=[1,2,1]\n",
    "sumK2(0,arr,[],3,0)\n"
   ]
  },
  {
   "cell_type": "code",
   "execution_count": 22,
   "metadata": {},
   "outputs": [
    {
     "name": "stdout",
     "output_type": "stream",
     "text": [
      "[1, 2]\n",
      "[2, 1]\n"
     ]
    }
   ],
   "source": [
    "from functools import lru_cache\n",
    "\n",
    "def sumK2(arr, k):\n",
    "    @lru_cache(None)\n",
    "    def helper(i, seq, s):\n",
    "        if i == len(arr):\n",
    "            if s == k:\n",
    "                print(list(seq))\n",
    "            return\n",
    "        # Include the current element\n",
    "        helper(i + 1, seq + (arr[i],), s + arr[i])\n",
    "        # Exclude the current element\n",
    "        helper(i + 1, seq, s)\n",
    "\n",
    "    helper(0, tuple(), 0)\n",
    "\n",
    "# Example usage\n",
    "arr = [1, 2, 1]\n",
    "sumK2(arr, 3)\n"
   ]
  },
  {
   "cell_type": "code",
   "execution_count": 23,
   "metadata": {},
   "outputs": [
    {
     "name": "stdout",
     "output_type": "stream",
     "text": [
      "[1, 2]\n",
      "[2, 1]\n"
     ]
    }
   ],
   "source": [
    "def sumK2(i,arr,seq,k,s):\n",
    "    if i==len(arr):\n",
    "        if s==k:\n",
    "            print(seq)\n",
    "        return\n",
    "    # include\n",
    "    s+=arr[i]\n",
    "    seq.append(arr[i])\n",
    "    sumK2(i+1,arr,seq,k,s)\n",
    "    #exclude\n",
    "    s-=arr[i]\n",
    "    seq.pop()\n",
    "    sumK2(i+1,arr,seq,k,s)\n",
    "arr=[1,2,1]\n",
    "sumK2(0,arr,[],3,0)"
   ]
  },
  {
   "cell_type": "code",
   "execution_count": 24,
   "metadata": {},
   "outputs": [
    {
     "name": "stdout",
     "output_type": "stream",
     "text": [
      "[1, 2]\n"
     ]
    }
   ],
   "source": [
    "def sumflag(i:int,arr:list,seq:list,s:int,flag:list,k:int):\n",
    "    if flag[0] == True:\n",
    "        return\n",
    "    if i==len(arr):\n",
    "        if s==k :\n",
    "            print(seq)\n",
    "            flag[0]=True\n",
    "        return\n",
    "    # include\n",
    "    s+=arr[i]\n",
    "    seq.append(arr[i])\n",
    "    sumflag(i+1,arr,seq,s,flag,k)\n",
    "    # backtrack\n",
    "    s-=arr[i]\n",
    "    seq.pop()\n",
    "    # exclude\n",
    "    sumflag(i+1,arr,seq,s,flag,k)\n",
    "\n",
    "arr=[1,2,1]\n",
    "flag=[False]\n",
    "sumflag(0,arr,[],0,flag,3)"
   ]
  },
  {
   "cell_type": "code",
   "execution_count": 25,
   "metadata": {},
   "outputs": [],
   "source": [
    "def conact(li1:list,li2:list):\n",
    "    i=0\n",
    "    j=0\n",
    "    while(li1[i]!=None):\n",
    "        i+=1\n",
    "    while(li2[j]!=None):\n",
    "        li1[i]=li2[j]\n",
    "        i+=1\n",
    "        j+=1\n",
    "    return li1\n",
    "\n"
   ]
  },
  {
   "cell_type": "code",
   "execution_count": 26,
   "metadata": {},
   "outputs": [
    {
     "name": "stdout",
     "output_type": "stream",
     "text": [
      "0\n",
      "1\n",
      "1\n",
      "2\n",
      "3\n",
      "5\n",
      "8\n",
      "13\n",
      "21\n",
      "34\n",
      "55\n",
      "89\n"
     ]
    }
   ],
   "source": [
    "a=0\n",
    "b=1\n",
    "c=1\n",
    "print(a)\n",
    "print(b)\n",
    "for i in range(10):\n",
    "        c=a+b\n",
    "        a=b\n",
    "        b=c\n",
    "        print(c)"
   ]
  },
  {
   "cell_type": "code",
   "execution_count": 27,
   "metadata": {},
   "outputs": [
    {
     "name": "stdout",
     "output_type": "stream",
     "text": [
      "6\n"
     ]
    }
   ],
   "source": [
    "def s(digit):\n",
    "    if digit == 0:\n",
    "        return 0\n",
    "    return digit%10 + s(digit//10)\n",
    "print(s(123))"
   ]
  },
  {
   "cell_type": "code",
   "execution_count": 28,
   "metadata": {},
   "outputs": [
    {
     "name": "stdout",
     "output_type": "stream",
     "text": [
      "2\n"
     ]
    }
   ],
   "source": [
    "def maxa(arr,i,max):\n",
    "    if i==len(arr):\n",
    "        return max\n",
    "    if arr[i]>max:\n",
    "        max=arr[i]\n",
    "    return maxa(arr,i+1,max)\n",
    "arr=[1,2,1]\n",
    "print(maxa(arr,0,0))"
   ]
  },
  {
   "cell_type": "code",
   "execution_count": null,
   "metadata": {},
   "outputs": [],
   "source": []
  }
 ],
 "metadata": {
  "kernelspec": {
   "display_name": "Python 3",
   "language": "python",
   "name": "python3"
  },
  "language_info": {
   "codemirror_mode": {
    "name": "ipython",
    "version": 3
   },
   "file_extension": ".py",
   "mimetype": "text/x-python",
   "name": "python",
   "nbconvert_exporter": "python",
   "pygments_lexer": "ipython3",
   "version": "3.12.1"
  }
 },
 "nbformat": 4,
 "nbformat_minor": 2
}
