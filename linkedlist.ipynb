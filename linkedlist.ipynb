{
 "cells": [
  {
   "cell_type": "code",
   "execution_count": 41,
   "metadata": {},
   "outputs": [],
   "source": [
    "class SingleNode:\n",
    "    def __init__(self,data) -> None:\n",
    "        self.data=data\n",
    "        self.next=None\n",
    "    def __str__(self) -> str:\n",
    "        return str(self.data)"
   ]
  },
  {
   "cell_type": "code",
   "execution_count": 42,
   "metadata": {},
   "outputs": [],
   "source": [
    "head=SingleNode(6)\n",
    "A=SingleNode(5)\n",
    "head.next=A"
   ]
  },
  {
   "cell_type": "code",
   "execution_count": 43,
   "metadata": {},
   "outputs": [
    {
     "name": "stdout",
     "output_type": "stream",
     "text": [
      "6->5\n"
     ]
    }
   ],
   "source": [
    "cur=head\n",
    "element=[]\n",
    "while(cur!=None):\n",
    "    element.append(str(cur.data))\n",
    "    cur=cur.next\n",
    "print(\"->\".join(element))"
   ]
  },
  {
   "cell_type": "code",
   "execution_count": 44,
   "metadata": {},
   "outputs": [],
   "source": [
    "class Node:\n",
    "    def __init__(self,data) -> None:\n",
    "        self.data=data\n",
    "        self.next=None\n",
    "class LinkedList:\n",
    "    def __init__(self) -> None:\n",
    "        self.head=None\n",
    "    def insertatbegin(self,data):\n",
    "        new_node=Node(data)\n",
    "        if self.head is None:\n",
    "            self.head=new_node\n",
    "            return\n",
    "        else:\n",
    "            new_node.next=self.head\n",
    "            self.head=new_node\n",
    "    def insertatend(self,data):\n",
    "        new_node=Node(data)\n",
    "        temp=self.head\n",
    "        if self.head is None:\n",
    "            self.insertatbegin(data)\n",
    "            return\n",
    "        while(temp.next!=None):\n",
    "            temp=temp.next\n",
    "        temp.next=new_node\n",
    "    def insertatmiddle(self,data,position):\n",
    "        if self.head is None:\n",
    "            self.insertatbegin(data)\n",
    "            return\n",
    "        new_node=Node(data)\n",
    "        temp=self.head\n",
    "        k=0\n",
    "        while(temp is not None and k<position-1):\n",
    "            temp=temp.next\n",
    "            k+=1\n",
    "        if temp is not None:\n",
    "            new_node.next=temp.next\n",
    "            temp.next=new_node\n",
    "    def printLinked(self):\n",
    "        temp=self.head\n",
    "        element=[]\n",
    "        while(temp is not None):\n",
    "            element.append(str(temp.data))\n",
    "            temp=temp.next\n",
    "        print(\"->\".join(element))"
   ]
  },
  {
   "cell_type": "code",
   "execution_count": 45,
   "metadata": {},
   "outputs": [],
   "source": [
    "def middle(head):\n",
    "    if head is None:\n",
    "        return\n",
    "    slowptr=head\n",
    "    fastptr=head\n",
    "    while(fastptr is not None and fastptr.next is not None):\n",
    "        slowptr=slowptr.next\n",
    "        fastptr=fastptr.next.next\n",
    "    return slowptr.data"
   ]
  },
  {
   "cell_type": "code",
   "execution_count": 46,
   "metadata": {},
   "outputs": [
    {
     "name": "stdout",
     "output_type": "stream",
     "text": [
      "6->5->7->8\n",
      "Head of linked1: 6\n",
      "Middle of linked1: 7\n",
      "10->20->30->40\n",
      "Head of linked2: 10\n",
      "Middle of linked2: 30\n"
     ]
    }
   ],
   "source": [
    "linked1 = LinkedList()\n",
    "linked1.insertatbegin(5)\n",
    "linked1.insertatbegin(6)\n",
    "linked1.insertatend(7)\n",
    "linked1.insertatend(8)\n",
    "# linked1.insertatmiddle(3, 2)\n",
    "# linked1.insertatmiddle(9, 3)\n",
    "linked1.printLinked()\n",
    "print(\"Head of linked1:\", linked1.head.data)\n",
    "print(\"Middle of linked1:\", middle(linked1.head))\n",
    "\n",
    "# Create and manipulate the second linked list\n",
    "linked2 = LinkedList()\n",
    "linked2.insertatbegin(20)\n",
    "linked2.insertatbegin(10)\n",
    "linked2.insertatend(30)\n",
    "linked2.insertatend(40)\n",
    "# linked2.insertatmiddle(25, 2)\n",
    "# linked2.insertatmiddle(15, 3)\n",
    "linked2.printLinked()\n",
    "print(\"Head of linked2:\", linked2.head.data)\n",
    "print(\"Middle of linked2:\", middle(linked2.head))"
   ]
  },
  {
   "cell_type": "code",
   "execution_count": 47,
   "metadata": {},
   "outputs": [],
   "source": [
    "def merge(head1, head2):\n",
    "    dummy_node = Node(-1)\n",
    "    h = dummy_node\n",
    "    temp1 = head1\n",
    "    temp2 = head2\n",
    "\n",
    "    while temp1 and temp2:\n",
    "        if temp1.data < temp2.data:\n",
    "            h.next = temp1\n",
    "            temp1 = temp1.next\n",
    "        else:\n",
    "            h.next = temp2\n",
    "            temp2 = temp2.next\n",
    "        h = h.next\n",
    "\n",
    "    if temp1:\n",
    "        h.next = temp1\n",
    "    else:\n",
    "        h.next = temp2\n",
    "\n",
    "    return dummy_node.next\n"
   ]
  },
  {
   "cell_type": "code",
   "execution_count": 48,
   "metadata": {},
   "outputs": [
    {
     "name": "stdout",
     "output_type": "stream",
     "text": [
      "6->5->7->8->10->20->30->40\n"
     ]
    }
   ],
   "source": [
    "x=merge(linked1.head,linked2.head)\n",
    "temp=x\n",
    "element=[]\n",
    "while(temp is not None):\n",
    "    element.append(str(temp.data))\n",
    "    temp=temp.next\n",
    "print(\"->\".join(element))"
   ]
  }
 ],
 "metadata": {
  "kernelspec": {
   "display_name": "Python 3",
   "language": "python",
   "name": "python3"
  },
  "language_info": {
   "codemirror_mode": {
    "name": "ipython",
    "version": 3
   },
   "file_extension": ".py",
   "mimetype": "text/x-python",
   "name": "python",
   "nbconvert_exporter": "python",
   "pygments_lexer": "ipython3",
   "version": "3.12.1"
  }
 },
 "nbformat": 4,
 "nbformat_minor": 2
}
